{
 "cells": [
  {
   "cell_type": "markdown",
   "metadata": {},
   "source": [
    "# ライブラリの`import`を用いる\n",
    "## matplotlibを使ってグラフをプロット"
   ]
  },
  {
   "cell_type": "markdown",
   "metadata": {},
   "source": [
    "まずはデータを読み込み，それをX, Yのデータにして返す関数を作りましょう。\n",
    "csv とはcomma separated valuesです。テキストで開いてみればわかります。エクセルでも開けます。"
   ]
  },
  {
   "cell_type": "code",
   "execution_count": 77,
   "metadata": {},
   "outputs": [],
   "source": [
    "import csv\n",
    "def read_data(file_name):\n",
    "    reader = csv.reader(open(file_name, 'r'))\n",
    "    X = []\n",
    "    Y = []\n",
    "    for row in reader:\n",
    "        X.append(float(row[0]))\n",
    "        Y.append(float(row[1]))\n",
    "    return X, Y  # データを返す"
   ]
  },
  {
   "cell_type": "markdown",
   "metadata": {},
   "source": [
    "matplotlibを用いてデータを散布図にプロットする関数を作成します。"
   ]
  },
  {
   "cell_type": "code",
   "execution_count": 14,
   "metadata": {},
   "outputs": [],
   "source": [
    "import matplotlib.pyplot as plt\n",
    "% matplotlib inline\n",
    "#  % matplotlib inlineはjupyter notebookでmatplotlibを行内に表示するためのおまじない"
   ]
  },
  {
   "cell_type": "code",
   "execution_count": 78,
   "metadata": {},
   "outputs": [],
   "source": [
    "def draw_graph(X, Y, title, xlabel, ylabel):\n",
    "    # ここに描画するプログラムを書く。\n",
    "    \n",
    "    plt.plot(X,Y,'o')\n",
    "    # グラフタイトル\n",
    "    plt.title(title)\n",
    "    # X軸タイトル\n",
    "    plt.xlabel(xlabel)\n",
    "    # Y軸タイトル\n",
    "    plt.ylabel(ylabel)\n",
    "    # グラフをメモリ上に作成\n",
    "    plt.show()  # グラフの描画\n",
    "\n",
    "    \n",
    "#draw_graph([0.3, 1.02, 2.5, 3.2, 3.97, 5.4, 6.7, 7.1, 8.4, 9.6], [5.01, 6.35, 7.4, 7.3, 7.66, 4.2, 2.1, 1.2, 9.2, 5.4],\"a\",\"b\",\"c\")\n"
   ]
  },
  {
   "cell_type": "markdown",
   "metadata": {},
   "source": [
    "では，データを読み込んで描画して見ましょう。"
   ]
  },
  {
   "cell_type": "code",
   "execution_count": 79,
   "metadata": {
    "scrolled": true
   },
   "outputs": [
    {
     "data": {
      "image/png": "[encoded data removed]",
      "text/plain": [
       "<Figure size 432x288 with 1 Axes>"
      ]
     },
     "metadata": {
      "needs_background": "light"
     },
     "output_type": "display_data"
    }
   ],
   "source": [
    "file_name = 'data3.csv'  # ファイル名\n",
    "\n",
    "#print(read_data(file_name))\n",
    "\n",
    "X, Y = read_data(file_name)\n",
    "\n",
    "#print(X)\n",
    "#print(Y)\n",
    "\n",
    "# 関数read_dataによりデータを取得\n",
    "# タイトル，ラベル\n",
    "title = \"study\"\n",
    "xl = \"xlabel\"\n",
    "yl = \"ylabel\"\n",
    "\n",
    "#draw_graph(X, Y, \"title\", \"xl\", \"yl\") 　# 関数draw_graphによりグラフ描画\n",
    "draw_graph(X,Y,title,xl,yl)"
   ]
  },
  {
   "cell_type": "code",
   "execution_count": 7,
   "metadata": {},
   "outputs": [],
   "source": []
  }
 ],
 "metadata": {
  "kernelspec": {
   "display_name": "Python 3",
   "language": "python",
   "name": "python3"
  },
  "language_info": {
   "codemirror_mode": {
    "name": "ipython",
    "version": 3
   },
   "file_extension": ".py",
   "mimetype": "text/x-python",
   "name": "python",
   "nbconvert_exporter": "python",
   "pygments_lexer": "ipython3",
   "version": "3.7.0"
  }
 },
 "nbformat": 4,
 "nbformat_minor": 2
}
